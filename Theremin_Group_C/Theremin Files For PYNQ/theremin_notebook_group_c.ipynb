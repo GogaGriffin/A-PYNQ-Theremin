{
 "cells": [
  {
   "cell_type": "markdown",
   "id": "b1ca4f12",
   "metadata": {},
   "source": [
    "# Group C Jupyter Notebook\n",
    "##   A PYNQ Theremin\n",
    " \n",
    "This is the Jupyter Notebook for using a PYNQ-Z2 board as a Theremin. A theremin is a musical instrument is that has its sound changed from two inputs, pitch and volume. In this Notebook, a Grove Ultrasonic Ranger is used to measure the distance from the sensor and change the pitch accordingly. The volume is controlled from the gain sliders. More in depth explanation can be found in references.\n",
    "\n",
    "\n",
    "<img src=\"diagram_theremin.png\" height = \"600\" width = \"600\">\n",
    "Figure 1. Hardware and Software Flowchart\n",
    "\n",
    "\n",
    "\n",
    "\n",
    "\n",
    "### Numerically Controlled Oscillator (NCO)\n",
    "\n",
    "A NCO (Figure 2) is a signal generator which digitally creates a synchronous, waveform which is discrete-valued and discrete-timed. The output is usually a sinusoidal waveform and they are often used with a digital-to-analog converter to create a digital audio synthesizer.\n",
    "\n",
    "<img src=\"nco1.png\" height = \"600\" width = \"600\">\n",
    "Figure 2. Basic NCO diagram [1]\n",
    "\n",
    "\n",
    "It takes an input value (step_size) which determines how quickly the address is accumulated,and hence the frequency of the generated sine wave. This value goes through an accumulator (Figure 3) and is a fixed point number. It has n whole bits and b fractional bits. Increasing the fractional bit provides greater precision in the frequency.\n",
    "\n",
    "\n",
    "\n",
    "\n",
    "<img src=\"nco2.png\" height = \"500\" width = \"500\">\n",
    "Figure 3. Accumulator diagram [1]\n",
    "\n",
    "### Grove Ultrasonic Ranger (USR)\n",
    "\n",
    "The USR (Figure 4) is a device that connects to the G1 port of the PYNQ Grove Adapter which connects to the PMODA port of the PYNQ-Z2 board. It is a \"non-contact distance measurement module\" [2] that emits and detects ultrasonic sound waves which in this case are used for measuring distances. The distance measured changes the pitch of the outputed sound wave.\n",
    "\n",
    "<img src=\"usr1.jpg\" height = \"600\" width = \"600\">\n",
    "Figure 4. USR comparison diagram. Model used on the left [2]\n",
    "\n",
    "The model used in Figure 4 has some key features and conections. When compared to other ultrasonic sensor modules (like the one on the right in the Figure 4) it has a single-chip microcomputer, and the ECHO signal along with the TRIG signal share one pin.\n",
    "\n",
    "In Figure 5:\n",
    "\n",
    "* <font color='green'>Green</font>  - Audio Codec\n",
    "* <font color='red'>Red</font> - NCO\n",
    "* <font color='orange'>Yellow</font> - 10 MHz Clock Wizard\n",
    "* <font color='purple'>Purple</font> - ZYNQ7 Processing System\n",
    "\n",
    "\n",
    "<img src=\"full_block_diagram.png\" height = \"600\" width = \"600\">\n",
    "Figure 5. Full Vivado Block Design\n",
    "\n",
    "\n",
    "\n",
    "\n",
    "The NCO used the AXI interface to receive the Left/Right Channel Gains and the Step Size. The three outputs of the NCO block (Figure 6) and the \"codec_address[1:0]\" of the Audio Codec block are fed into the corresponding ports of the PYNQ-Z2 board in order to have audible tone as an output.\n",
    "\n",
    "\n",
    "\n",
    "\n",
    "\n",
    "<img src=\"nco_block_diagram.png\" height = \"600\" width = \"600\">\n",
    "Figure 6. NCO and Audio Codec in Block Design\n",
    "\n",
    "\n",
    "\n"
   ]
  },
  {
   "cell_type": "markdown",
   "id": "ee0fb160",
   "metadata": {},
   "source": [
    "### Libraries\n",
    "\n",
    "First the correct libraries are imported and the correct bitstream file is used for the overlay."
   ]
  },
  {
   "cell_type": "code",
   "execution_count": 1,
   "id": "fb8eeed4",
   "metadata": {},
   "outputs": [
    {
     "data": {
      "application/javascript": [
       "\n",
       "try {\n",
       "require(['notebook/js/codecell'], function(codecell) {\n",
       "  codecell.CodeCell.options_default.highlight_modes[\n",
       "      'magic_text/x-csrc'] = {'reg':[/^%%microblaze/]};\n",
       "  Jupyter.notebook.events.one('kernel_ready.Kernel', function(){\n",
       "      Jupyter.notebook.get_cells().map(function(cell){\n",
       "          if (cell.cell_type == 'code'){ cell.auto_highlight(); } }) ;\n",
       "  });\n",
       "});\n",
       "} catch (e) {};\n"
      ]
     },
     "metadata": {},
     "output_type": "display_data"
    },
    {
     "data": {
      "application/javascript": [
       "\n",
       "try {\n",
       "require(['notebook/js/codecell'], function(codecell) {\n",
       "  codecell.CodeCell.options_default.highlight_modes[\n",
       "      'magic_text/x-csrc'] = {'reg':[/^%%pybind11/]};\n",
       "  Jupyter.notebook.events.one('kernel_ready.Kernel', function(){\n",
       "      Jupyter.notebook.get_cells().map(function(cell){\n",
       "          if (cell.cell_type == 'code'){ cell.auto_highlight(); } }) ;\n",
       "  });\n",
       "});\n",
       "} catch (e) {};\n"
      ]
     },
     "metadata": {},
     "output_type": "display_data"
    }
   ],
   "source": [
    "import pynq\n",
    "from pynq import Overlay\n",
    "from pynq import Clocks\n",
    "import ipywidgets as widgets\n",
    "import _thread\n",
    "from IPython.display import clear_output\n",
    "\n",
    "theremin = Overlay(\"theremin_group_c.bit\") # hwh is parsed here"
   ]
  },
  {
   "cell_type": "markdown",
   "id": "de91cf3a",
   "metadata": {},
   "source": [
    "Running this cell will display the hierarchies and the IPs in the system."
   ]
  },
  {
   "cell_type": "code",
   "execution_count": 2,
   "id": "969afdff",
   "metadata": {},
   "outputs": [],
   "source": [
    "?theremin"
   ]
  },
  {
   "cell_type": "markdown",
   "id": "63406009",
   "metadata": {},
   "source": [
    "### USR Code\n",
    "\n",
    "Cell below was resourced [3] where it was provided with the PYNQ board as an example. Written in C.  \n",
    "\n",
    "The ultrasonic sensor must be attached to the G1 connector of the Pmod Grove adapter, and the adapter is connected to PMODA.\n",
    "\n",
    "Some values for the timer controller registers are manipulated and their definitions are shown below:\n",
    "\n",
    "|Register name |Register functionality               |Register value |\n",
    "|:-------------|:------------------------------------|:----------------|\n",
    "|TCSR0         |Timer 0 Control and Status Register  |0x00             |\n",
    "|TLR0          |Timer 0 Load Register                |0x04             |\n",
    "|TCR0          |Timer 0 Counter Register             |0x08             |\n",
    "|TCSR1         |Timer 1 Control and Status Register  |0x10             |\n",
    "|TLR1          |Timer 1 Load Register                |0x14             |\n",
    "|TCR1          |Timer 1 Counter Register             |0x18             |"
   ]
  },
  {
   "cell_type": "code",
   "execution_count": 3,
   "id": "2ac5be31",
   "metadata": {},
   "outputs": [],
   "source": [
    "%%microblaze theremin.iop_pmoda\n",
    "\n",
    "#include \"xparameters.h\"\n",
    "#include \"xtmrctr.h\"\n",
    "#include \"gpio.h\"\n",
    "#include \"timer.h\"\n",
    "#include <pmod_grove.h>\n",
    "\n",
    "#define TCSR0 0x00\n",
    "#define TLR0 0x04\n",
    "#define TCR0 0x08\n",
    "#define TCSR1 0x10\n",
    "#define TLR1 0x14\n",
    "#define TCR1 0x18\n",
    "#define MAX_COUNT 0xFFFFFFFF\n",
    "\n",
    "void create_10us_pulse(gpio usranger){ \n",
    "    gpio_set_direction(usranger, GPIO_OUT); //sets the USR to output\n",
    "    gpio_write(usranger, 0); //outputs no sound waves for 2 us\n",
    "    delay_us(2);  \n",
    "    gpio_write(usranger, 1); //outputs a sound wave for 10 us\n",
    "    delay_us(10);\n",
    "    gpio_write(usranger, 0); //sound wave output is 0\n",
    "}\n",
    "\n",
    "void configure_as_input(gpio usranger){\n",
    "    gpio_set_direction(usranger, GPIO_IN); //sets the USR as an input to detect the reflection\n",
    "}\n",
    "\n",
    "unsigned int capture_duration(gpio usranger){\n",
    "    unsigned int count1, count2;\n",
    "    count1=0;\n",
    "    count2=0;\n",
    "    XTmrCtr_WriteReg(XPAR_TMRCTR_0_BASEADDR, 0, TLR0, 0x0);\n",
    "    XTmrCtr_WriteReg(XPAR_TMRCTR_0_BASEADDR, 0, TCSR0, 0x190);\n",
    "    while(!gpio_read(usranger));\n",
    "    count1=XTmrCtr_ReadReg(XPAR_TMRCTR_0_BASEADDR, 0, TCR0);\n",
    "    while(gpio_read(usranger));\n",
    "    count2=XTmrCtr_ReadReg(XPAR_TMRCTR_0_BASEADDR, 0, TCR0);\n",
    "    if(count2 > count1) {\n",
    "        return (count2 - count1);\n",
    "    } else {\n",
    "        return((MAX_COUNT - count1) + count2);  \n",
    "    }\n",
    "}\n",
    "\n",
    "unsigned int read_raw(){ //read function that reads the duration\n",
    "    gpio usranger;\n",
    "    usranger = gpio_open(PMOD_G1_A);\n",
    "    create_10us_pulse(usranger);\n",
    "    configure_as_input(usranger);\n",
    "    return capture_duration(usranger);\n",
    "}"
   ]
  },
  {
   "cell_type": "markdown",
   "id": "981f672f",
   "metadata": {},
   "source": [
    "### IP variable assignment\n",
    "\n",
    "Take the audio codec and NCO IPs and assign them to variables for ease of use. Also configure the audio codec. "
   ]
  },
  {
   "cell_type": "code",
   "execution_count": 4,
   "id": "af3e3770",
   "metadata": {},
   "outputs": [],
   "source": [
    "pAudio = theremin.audio_codec_ctrl_0\n",
    "pAudio.configure()\n",
    "nco = theremin.nco_ip_0"
   ]
  },
  {
   "cell_type": "markdown",
   "id": "ee5e2cae",
   "metadata": {},
   "source": [
    "### NCO Properties\n",
    "\n",
    "Set the system and NCO clock frequency, both taken from System Generator. The sampling frequency is calculated from these values and the LUT depth is also assigned. [4] [5]"
   ]
  },
  {
   "cell_type": "code",
   "execution_count": 5,
   "id": "9c1fd96d",
   "metadata": {},
   "outputs": [],
   "source": [
    "sys_clk_freq = 100000000 #100MHz\n",
    "nco_clk_freq = 1024 #32*32 from the delays in system generator\n",
    "fs = (sys_clk_freq / nco_clk_freq) #sampling frequency\n",
    "N = 256 #2^8 LUT depth"
   ]
  },
  {
   "cell_type": "markdown",
   "id": "b656c775",
   "metadata": {},
   "source": [
    "### Functions\n",
    "* **read_distance_cm** - Calculations were resourced from [1] as previously stated. The number 58 is from the follwing fomrula and time is the variable measured:\n",
    "\n",
    "$d = \\frac{1}{2}*340m/s * 10^{-6} * time$\n",
    "\n",
    "$d$ is in meters, so $100 * d$ for centimeters.\n",
    "\n",
    "* **step_size_calculation** - Definition of the step_size_calculation() function takes place, which will be used to assign a correct value to the NCO. [2]\n",
    "\n",
    "\n",
    "* **setGains** - Create the setGains function to set the gain values received from the sliders. [2]\n"
   ]
  },
  {
   "cell_type": "code",
   "execution_count": 6,
   "id": "c18b170d",
   "metadata": {},
   "outputs": [],
   "source": [
    "def read_distance_cm():\n",
    "    raw_value = read_raw()\n",
    "    clk_period_ns = int(1000 / Clocks.fclk0_mhz)\n",
    "    num_microseconds = raw_value * clk_period_ns * 0.001\n",
    "    distance = num_microseconds/58\n",
    "    if num_microseconds * 0.001 > 30:\n",
    "        return 500\n",
    "    else:\n",
    "        return distance\n",
    "\n",
    "def step_size_calculation(fd):\n",
    "\n",
    "    return int(((N * fd) / fs)*(2**20)) #20 fractional bit in the input\n",
    "\n",
    "def setGains(Lch, Rch):\n",
    "    try:\n",
    "        nco.write(0x0, int(Lch*(2**3)))  # left Channel 3 fractional bits\n",
    "        nco.write(0x4, int(Rch*(2**3)))  # Right Channel 3 fractional bits\n",
    "    except Exception:\n",
    "        import traceback\n",
    "        print(traceback.format_exc())"
   ]
  },
  {
   "cell_type": "markdown",
   "id": "9acbc5c2",
   "metadata": {},
   "source": [
    "### Widgets\n",
    "\n",
    "Import the widgets library and configure both sliders. [4]"
   ]
  },
  {
   "cell_type": "code",
   "execution_count": 7,
   "id": "8842e2e7",
   "metadata": {},
   "outputs": [],
   "source": [
    "LR_Slider = widgets.FloatSlider(\n",
    "    value=1,\n",
    "    min=0,\n",
    "    max=1,\n",
    "    step=0.125,\n",
    "    description='L/R Gain',\n",
    "    disabled=False,\n",
    "    continuous_update=False,\n",
    "    orientation='horizontal',\n",
    "    readout=True,\n",
    "    readout_format='.3f',\n",
    ")\n",
    "\n",
    "Duration_Slider = widgets.FloatSlider(\n",
    "    value=1,\n",
    "    min=5,\n",
    "    max=30,\n",
    "    step=1,\n",
    "    description='Duration (s)',\n",
    "    disabled=False,\n",
    "    continuous_update=False,\n",
    "    orientation='horizontal',\n",
    "    readout=True,\n",
    "    readout_format='.0f',\n",
    ")"
   ]
  },
  {
   "cell_type": "markdown",
   "id": "6cdab5c3",
   "metadata": {},
   "source": [
    "### Output\n",
    "\n",
    "Run the following two cells and adjust the sliders to change the duration of the theremin sound and volume <font color='red'>before</font> running the final cell."
   ]
  },
  {
   "cell_type": "code",
   "execution_count": 12,
   "id": "d7e6d813",
   "metadata": {
    "scrolled": true
   },
   "outputs": [
    {
     "data": {
      "application/vnd.jupyter.widget-view+json": {
       "model_id": "79bd348dbe3e42b48d4aae229b6e62a7",
       "version_major": 2,
       "version_minor": 0
      },
      "text/plain": [
       "FloatSlider(value=30.0, continuous_update=False, description='Duration (s)', max=30.0, min=5.0, readout_format…"
      ]
     },
     "metadata": {},
     "output_type": "display_data"
    }
   ],
   "source": [
    "Duration_Slider"
   ]
  },
  {
   "cell_type": "code",
   "execution_count": 13,
   "id": "2387253c",
   "metadata": {},
   "outputs": [
    {
     "data": {
      "application/vnd.jupyter.widget-view+json": {
       "model_id": "7469d28d308642aa924d3cab2989bad9",
       "version_major": 2,
       "version_minor": 0
      },
      "text/plain": [
       "FloatSlider(value=0.5, continuous_update=False, description='L/R Gain', max=1.0, readout_format='.3f', step=0.…"
      ]
     },
     "metadata": {},
     "output_type": "display_data"
    }
   ],
   "source": [
    "LR_Slider"
   ]
  },
  {
   "cell_type": "markdown",
   "id": "be936178",
   "metadata": {},
   "source": [
    "Used a for-loop to write continuously to the NCO and have a continuous output. Started two threads for the audio output, one for the audio codec and one for the gain sliders. This in turn gives an audio output which can be heard. It also outputs the measurements taken. Once the loop finishes, the output of the cell is cleared and ready to be ran again."
   ]
  },
  {
   "cell_type": "code",
   "execution_count": 15,
   "id": "c7455f55",
   "metadata": {},
   "outputs": [
    {
     "name": "stdout",
     "output_type": "stream",
     "text": [
      "Finished. Great song!\n"
     ]
    }
   ],
   "source": [
    "setGains(LR_Slider.value,LR_Slider.value)\n",
    "for i in range(int(Duration_Slider.value * 20)):\n",
    "    nco.write(0x8, step_size_calculation(read_distance_cm()*25)) #Step Size input desired frequency\n",
    "    print('distance: {:.2f} cm'.format((read_distance_cm())))\n",
    "\n",
    "    try:\n",
    "        _thread.start_new_thread(pAudio.bypass, (0.1,))\n",
    "    except Exception:\n",
    "        import traceback\n",
    "        print(traceback.format_exc())\n",
    "\n",
    "\n",
    "for i in range(10):\n",
    "    clear_output(wait=True)\n",
    "    print(\"Finished. Great song!\")"
   ]
  },
  {
   "cell_type": "markdown",
   "id": "79836617",
   "metadata": {},
   "source": [
    "# References\n",
    "\n",
    "[1] Further VHDL and FPGA Design - Lecture Week 5 Chapter 5: Numerically Controlled Oscillators \n",
    "\n",
    "[2] Grove - Ultrasonic Distance Sensor https://www.seeedstudio.com/Grove-Ultrasonic-Distance-Sensor.html\n",
    "\n",
    "[3] Provided on PYNQ board http://192.168.2.99:9090/notebooks/base/pmod/pmod_grove_usranger.ipynb\n",
    "\n",
    "[4] Dr. Louise Crocket Audio Example https://classes.myplace.strath.ac.uk/mod/resource/view.php?id=1696059\n",
    "\n",
    "[5] Audio Codec Datasheet https://www.analog.com/media/en/technical-documentation/data-sheets/ADAU1761.pdf"
   ]
  },
  {
   "cell_type": "code",
   "execution_count": null,
   "id": "ca9a8615",
   "metadata": {},
   "outputs": [],
   "source": []
  }
 ],
 "metadata": {
  "kernelspec": {
   "display_name": "Python 3",
   "language": "python",
   "name": "python3"
  },
  "language_info": {
   "codemirror_mode": {
    "name": "ipython",
    "version": 3
   },
   "file_extension": ".py",
   "mimetype": "text/x-python",
   "name": "python",
   "nbconvert_exporter": "python",
   "pygments_lexer": "ipython3",
   "version": "3.8.2"
  }
 },
 "nbformat": 4,
 "nbformat_minor": 5
}
